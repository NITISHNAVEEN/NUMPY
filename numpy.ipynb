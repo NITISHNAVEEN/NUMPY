{
 "cells": [
  {
   "cell_type": "code",
   "execution_count": 1,
   "id": "9cbd5bda-3ad5-4be6-80da-821b0840c1d2",
   "metadata": {},
   "outputs": [
    {
     "data": {
      "text/plain": [
       "range(0, 5)"
      ]
     },
     "execution_count": 1,
     "metadata": {},
     "output_type": "execute_result"
    }
   ],
   "source": [
    "range(0,5)"
   ]
  },
  {
   "cell_type": "code",
   "execution_count": 2,
   "id": "610584b2-a167-4b44-ab41-2c197e640b6c",
   "metadata": {},
   "outputs": [
    {
     "data": {
      "text/plain": [
       "[0, 1, 2, 3, 4]"
      ]
     },
     "execution_count": 2,
     "metadata": {},
     "output_type": "execute_result"
    }
   ],
   "source": [
    "list(range(0,5))"
   ]
  },
  {
   "cell_type": "code",
   "execution_count": 3,
   "id": "77661d04-419f-40d2-a977-dabe9b73b8d7",
   "metadata": {},
   "outputs": [
    {
     "data": {
      "text/plain": [
       "[0, 2, 4]"
      ]
     },
     "execution_count": 3,
     "metadata": {},
     "output_type": "execute_result"
    }
   ],
   "source": [
    "list(range(0,5,2))"
   ]
  },
  {
   "cell_type": "code",
   "execution_count": 6,
   "id": "f4e668ed-6a52-453a-b4f2-0b605f3d20bd",
   "metadata": {},
   "outputs": [],
   "source": [
    "list1 = [1,3,5,7,9]\n",
    "list2 = [2,4,6,8,10]"
   ]
  },
  {
   "cell_type": "code",
   "execution_count": 7,
   "id": "92bd1b70-547d-4594-b786-71f9e58556a5",
   "metadata": {},
   "outputs": [
    {
     "ename": "TypeError",
     "evalue": "can't multiply sequence by non-int of type 'list'",
     "output_type": "error",
     "traceback": [
      "\u001b[1;31m----------------------------------------------------------------\u001b[0m",
      "\u001b[1;31mTypeError\u001b[0m                      Traceback (most recent call last)",
      "Cell \u001b[1;32mIn[7], line 1\u001b[0m\n\u001b[1;32m----> 1\u001b[0m list1 \u001b[38;5;241m*\u001b[39m list2\n",
      "\u001b[1;31mTypeError\u001b[0m: can't multiply sequence by non-int of type 'list'"
     ]
    }
   ],
   "source": [
    "list1 * list2\n"
   ]
  },
  {
   "cell_type": "code",
   "execution_count": 8,
   "id": "549afd11-bffa-4cd5-8a2f-6629e9999fac",
   "metadata": {},
   "outputs": [
    {
     "data": {
      "text/plain": [
       "[2, 12, 30, 56, 90]"
      ]
     },
     "execution_count": 8,
     "metadata": {},
     "output_type": "execute_result"
    }
   ],
   "source": [
    "new_list = []\n",
    "for i in range(len(list1)):\n",
    "    x = list1[i]*list2[i]\n",
    "    new_list.append(x)\n",
    "new_list"
   ]
  },
  {
   "cell_type": "code",
   "execution_count": 1,
   "id": "3751d764-42b2-4160-8300-e77b2be8e45f",
   "metadata": {},
   "outputs": [],
   "source": [
    "import numpy as np"
   ]
  },
  {
   "cell_type": "code",
   "execution_count": 10,
   "id": "27ac1c60-4f78-4a41-808d-a51bd7150305",
   "metadata": {},
   "outputs": [
    {
     "data": {
      "text/plain": [
       "array([1, 3, 5, 7, 9])"
      ]
     },
     "execution_count": 10,
     "metadata": {},
     "output_type": "execute_result"
    }
   ],
   "source": [
    "x = np.array([1,3,5,7,9])\n",
    "x"
   ]
  },
  {
   "cell_type": "code",
   "execution_count": 11,
   "id": "0b95a230-8542-464d-b9f3-e6e9e20bf1ea",
   "metadata": {},
   "outputs": [
    {
     "data": {
      "text/plain": [
       "array([ 2,  4,  6,  8, 10])"
      ]
     },
     "execution_count": 11,
     "metadata": {},
     "output_type": "execute_result"
    }
   ],
   "source": [
    "y = np.array([2,4,6,8,10])\n",
    "y"
   ]
  },
  {
   "cell_type": "code",
   "execution_count": 12,
   "id": "71687469-ee12-4c9c-9255-b1f948d4b9c0",
   "metadata": {},
   "outputs": [
    {
     "name": "stdout",
     "output_type": "stream",
     "text": [
      "<class 'numpy.ndarray'>\n"
     ]
    }
   ],
   "source": [
    "print(type(x))"
   ]
  },
  {
   "cell_type": "code",
   "execution_count": 13,
   "id": "021d144d-ca4e-46fc-af17-1c798054273e",
   "metadata": {},
   "outputs": [
    {
     "data": {
      "text/plain": [
       "array([ 2, 12, 30, 56, 90])"
      ]
     },
     "execution_count": 13,
     "metadata": {},
     "output_type": "execute_result"
    }
   ],
   "source": [
    "x*y"
   ]
  },
  {
   "cell_type": "code",
   "execution_count": 14,
   "id": "eb31a7e5-8c71-41ba-a51c-034f42aaeac6",
   "metadata": {},
   "outputs": [
    {
     "data": {
      "text/plain": [
       "array([2, 4, 6, 8])"
      ]
     },
     "execution_count": 14,
     "metadata": {},
     "output_type": "execute_result"
    }
   ],
   "source": [
    "np.array([2,4,6,8])"
   ]
  },
  {
   "cell_type": "code",
   "execution_count": 15,
   "id": "aa83d48a-1cb3-4372-8cad-7691e6de7351",
   "metadata": {},
   "outputs": [],
   "source": [
    "variable = [5.8,9,7,5]\n"
   ]
  },
  {
   "cell_type": "code",
   "execution_count": 16,
   "id": "1ed1a3fb-eacf-496b-bffa-18ed7a553b44",
   "metadata": {},
   "outputs": [
    {
     "name": "stdout",
     "output_type": "stream",
     "text": [
      "<class 'float'>\n",
      "<class 'int'>\n"
     ]
    }
   ],
   "source": [
    "print(type(variable[0]))\n",
    "print(type(variable[1]))"
   ]
  },
  {
   "cell_type": "code",
   "execution_count": 17,
   "id": "2256f20d-6755-4328-879b-67cd4f13ebb5",
   "metadata": {},
   "outputs": [],
   "source": [
    "new_variable = np.array([5.8,9,7,5])"
   ]
  },
  {
   "cell_type": "code",
   "execution_count": 18,
   "id": "1110b628-8dbf-4721-b1a9-ad1525bf8f35",
   "metadata": {},
   "outputs": [
    {
     "data": {
      "text/plain": [
       "array([5.8, 9. , 7. , 5. ])"
      ]
     },
     "execution_count": 18,
     "metadata": {},
     "output_type": "execute_result"
    }
   ],
   "source": [
    "new_variable"
   ]
  },
  {
   "cell_type": "code",
   "execution_count": 19,
   "id": "83cd3736-e18d-4204-ac9e-d31fefd935a5",
   "metadata": {},
   "outputs": [
    {
     "data": {
      "text/plain": [
       "array([5, 9, 7, 5])"
      ]
     },
     "execution_count": 19,
     "metadata": {},
     "output_type": "execute_result"
    }
   ],
   "source": [
    "new_variable2 = np.array([5.8,9,7,5], dtype = \"int\")\n",
    "new_variable2"
   ]
  },
  {
   "cell_type": "code",
   "execution_count": 20,
   "id": "924f199d-9081-4bd4-b126-e2116e3f8633",
   "metadata": {},
   "outputs": [
    {
     "data": {
      "text/plain": [
       "array([0., 0., 0., 0., 0.])"
      ]
     },
     "execution_count": 20,
     "metadata": {},
     "output_type": "execute_result"
    }
   ],
   "source": [
    "np.zeros(5)"
   ]
  },
  {
   "cell_type": "code",
   "execution_count": 21,
   "id": "b0adc5c8-ea99-4b0b-b11f-6815d4e27f50",
   "metadata": {},
   "outputs": [
    {
     "data": {
      "text/plain": [
       "array([[0, 0, 0, 0, 0],\n",
       "       [0, 0, 0, 0, 0],\n",
       "       [0, 0, 0, 0, 0]])"
      ]
     },
     "execution_count": 21,
     "metadata": {},
     "output_type": "execute_result"
    }
   ],
   "source": [
    "np.zeros((3,5), dtype = \"int\")"
   ]
  },
  {
   "cell_type": "code",
   "execution_count": 22,
   "id": "c512ca32-9793-4bee-a2f0-42e2969b61f7",
   "metadata": {},
   "outputs": [
    {
     "data": {
      "text/plain": [
       "array([1., 1., 1., 1., 1., 1., 1., 1., 1., 1.])"
      ]
     },
     "execution_count": 22,
     "metadata": {},
     "output_type": "execute_result"
    }
   ],
   "source": [
    "np.ones(10)"
   ]
  },
  {
   "cell_type": "code",
   "execution_count": 53,
   "id": "eef893a4-8ca8-4e78-9622-9977a3fc549c",
   "metadata": {},
   "outputs": [
    {
     "data": {
      "text/plain": [
       "array([[[1, 1, 1, 1],\n",
       "        [1, 1, 1, 1],\n",
       "        [1, 1, 1, 1]],\n",
       "\n",
       "       [[1, 1, 1, 1],\n",
       "        [1, 1, 1, 1],\n",
       "        [1, 1, 1, 1]]])"
      ]
     },
     "execution_count": 53,
     "metadata": {},
     "output_type": "execute_result"
    }
   ],
   "source": [
    "np.ones((2,3,4),dtype = \"int\")"
   ]
  },
  {
   "cell_type": "code",
   "execution_count": 61,
   "id": "97870b59-dc38-4687-8b00-68b03d51ed10",
   "metadata": {},
   "outputs": [
    {
     "data": {
      "text/plain": [
       "array([5, 5, 5, 5, 5, 5, 5, 5])"
      ]
     },
     "execution_count": 61,
     "metadata": {},
     "output_type": "execute_result"
    }
   ],
   "source": [
    "np.full(8,5)"
   ]
  },
  {
   "cell_type": "code",
   "execution_count": 66,
   "id": "d18da838-8884-472b-ae7b-281fe695e340",
   "metadata": {},
   "outputs": [
    {
     "data": {
      "text/plain": [
       "array([[6., 6., 6.],\n",
       "       [6., 6., 6.]])"
      ]
     },
     "execution_count": 66,
     "metadata": {},
     "output_type": "execute_result"
    }
   ],
   "source": [
    "np.full((2,3),6,dtype = \"float\")"
   ]
  },
  {
   "cell_type": "code",
   "execution_count": 67,
   "id": "ec9d8497-e345-4602-83d9-30138251052d",
   "metadata": {},
   "outputs": [
    {
     "data": {
      "text/plain": [
       "array([0, 1, 2, 3, 4])"
      ]
     },
     "execution_count": 67,
     "metadata": {},
     "output_type": "execute_result"
    }
   ],
   "source": [
    "np.arange(5)"
   ]
  },
  {
   "cell_type": "code",
   "execution_count": 27,
   "id": "f1315938-92d0-44f8-b69f-d5540099e3ed",
   "metadata": {},
   "outputs": [
    {
     "data": {
      "text/plain": [
       "array([3., 4., 5., 6., 7., 8., 9.])"
      ]
     },
     "execution_count": 27,
     "metadata": {},
     "output_type": "execute_result"
    }
   ],
   "source": [
    "example = np.arange(3,10,dtype = \"float\")\n",
    "example"
   ]
  },
  {
   "cell_type": "code",
   "execution_count": 28,
   "id": "ae10b24d-d089-44ee-84e5-eeecaa144e79",
   "metadata": {},
   "outputs": [
    {
     "data": {
      "text/plain": [
       "array([[1., 0., 0.],\n",
       "       [0., 1., 0.],\n",
       "       [0., 0., 1.]])"
      ]
     },
     "execution_count": 28,
     "metadata": {},
     "output_type": "execute_result"
    }
   ],
   "source": [
    "np.eye(3)"
   ]
  },
  {
   "cell_type": "code",
   "execution_count": 68,
   "id": "f9532fd0-5954-40fa-b460-e625c672e4fe",
   "metadata": {},
   "outputs": [
    {
     "data": {
      "text/plain": [
       "array([[1, 0],\n",
       "       [0, 1],\n",
       "       [0, 0]])"
      ]
     },
     "execution_count": 68,
     "metadata": {},
     "output_type": "execute_result"
    }
   ],
   "source": [
    "np.eye(3,2,dtype = \"int\")"
   ]
  },
  {
   "cell_type": "code",
   "execution_count": 30,
   "id": "3c54d7f0-110c-4d49-bfa3-ac9a28663109",
   "metadata": {},
   "outputs": [
    {
     "data": {
      "text/plain": [
       "array([[ True, False],\n",
       "       [False,  True],\n",
       "       [False, False]])"
      ]
     },
     "execution_count": 30,
     "metadata": {},
     "output_type": "execute_result"
    }
   ],
   "source": [
    "np.eye(3,2,dtype = \"bool\")"
   ]
  },
  {
   "cell_type": "code",
   "execution_count": 31,
   "id": "5ef8f948-2f06-46d5-870a-0827b275f0b4",
   "metadata": {},
   "outputs": [
    {
     "data": {
      "text/plain": [
       "array([10., 15., 20., 25., 30.])"
      ]
     },
     "execution_count": 31,
     "metadata": {},
     "output_type": "execute_result"
    }
   ],
   "source": [
    "np.linspace(10,30,5)"
   ]
  },
  {
   "cell_type": "code",
   "execution_count": 32,
   "id": "c6c4f77c-454b-4c4d-81d7-b0fddbe33b92",
   "metadata": {},
   "outputs": [
    {
     "data": {
      "text/plain": [
       "array([0.20047305, 0.27697049, 0.79457025, 0.784123  , 0.01438223])"
      ]
     },
     "execution_count": 32,
     "metadata": {},
     "output_type": "execute_result"
    }
   ],
   "source": [
    "np.random.rand(5)"
   ]
  },
  {
   "cell_type": "code",
   "execution_count": 33,
   "id": "9138c3f4-665e-4fb1-ae8d-394d984c2c47",
   "metadata": {},
   "outputs": [
    {
     "data": {
      "text/plain": [
       "array([[0.06499668, 0.30696113, 0.21243947],\n",
       "       [0.31893869, 0.00373991, 0.83453286]])"
      ]
     },
     "execution_count": 33,
     "metadata": {},
     "output_type": "execute_result"
    }
   ],
   "source": [
    "np.random.rand(2,3)"
   ]
  },
  {
   "cell_type": "code",
   "execution_count": 74,
   "id": "9b8f73d5-f158-4f7e-810a-ad2a9c47cecb",
   "metadata": {},
   "outputs": [
    {
     "data": {
      "text/plain": [
       "array([-1.79320157,  2.19282618,  0.64419268,  2.10079015,  0.89149157])"
      ]
     },
     "execution_count": 74,
     "metadata": {},
     "output_type": "execute_result"
    }
   ],
   "source": [
    "x = np.random.randn(5)\n",
    "x"
   ]
  },
  {
   "cell_type": "code",
   "execution_count": 77,
   "id": "5cfab4b0-193f-4b71-a666-c66ee707067a",
   "metadata": {},
   "outputs": [
    {
     "data": {
      "text/plain": [
       "array([[ 2.4083372 ,  3.692306  , -1.32936648],\n",
       "       [11.2501908 ,  8.56120621,  3.31400278],\n",
       "       [ 3.00179275,  5.76598357,  1.78325551],\n",
       "       [11.01595139, -2.05817353, -0.36116631]])"
      ]
     },
     "execution_count": 77,
     "metadata": {},
     "output_type": "execute_result"
    }
   ],
   "source": [
    "np.random.normal(3,5,(4,3))"
   ]
  },
  {
   "cell_type": "code",
   "execution_count": 114,
   "id": "a5174f83-ab96-489c-a975-f3ecc6f4f426",
   "metadata": {},
   "outputs": [
    {
     "data": {
      "text/plain": [
       "array([[1, 0, 8, 1],\n",
       "       [3, 1, 6, 4],\n",
       "       [9, 9, 8, 0],\n",
       "       [6, 4, 8, 5]])"
      ]
     },
     "execution_count": 114,
     "metadata": {},
     "output_type": "execute_result"
    }
   ],
   "source": [
    "np.random.randint(0,10,(4,4))"
   ]
  },
  {
   "cell_type": "code",
   "execution_count": 116,
   "id": "dfee04e1-73a7-4858-a692-34dd28b12e6a",
   "metadata": {},
   "outputs": [
    {
     "data": {
      "text/plain": [
       "array([[11, 39, 39, 46],\n",
       "       [34, 21, 29, 44],\n",
       "       [11, 40, 41, 35],\n",
       "       [33, 31, 14, 36],\n",
       "       [12, 46, 22, 25]])"
      ]
     },
     "execution_count": 116,
     "metadata": {},
     "output_type": "execute_result"
    }
   ],
   "source": [
    "matrix = np.random.randint(10,50,(5,4))\n",
    "matrix"
   ]
  },
  {
   "cell_type": "code",
   "execution_count": 117,
   "id": "a7858903-e24f-4efd-843e-7ca00f87f149",
   "metadata": {},
   "outputs": [
    {
     "data": {
      "text/plain": [
       "2"
      ]
     },
     "execution_count": 117,
     "metadata": {},
     "output_type": "execute_result"
    }
   ],
   "source": [
    "matrix.ndim"
   ]
  },
  {
   "cell_type": "code",
   "execution_count": 118,
   "id": "e812783e-7240-4ffb-878f-0a1e6884b056",
   "metadata": {},
   "outputs": [
    {
     "data": {
      "text/plain": [
       "(5, 4)"
      ]
     },
     "execution_count": 118,
     "metadata": {},
     "output_type": "execute_result"
    }
   ],
   "source": [
    "matrix.shape"
   ]
  },
  {
   "cell_type": "code",
   "execution_count": 119,
   "id": "42166d7f-e535-481d-891b-b6c084b18088",
   "metadata": {},
   "outputs": [
    {
     "data": {
      "text/plain": [
       "20"
      ]
     },
     "execution_count": 119,
     "metadata": {},
     "output_type": "execute_result"
    }
   ],
   "source": [
    "matrix.size"
   ]
  },
  {
   "cell_type": "code",
   "execution_count": 120,
   "id": "a21eddf5-6574-4c69-b22b-beab87d567f0",
   "metadata": {},
   "outputs": [
    {
     "data": {
      "text/plain": [
       "dtype('int32')"
      ]
     },
     "execution_count": 120,
     "metadata": {},
     "output_type": "execute_result"
    }
   ],
   "source": [
    "matrix.dtype"
   ]
  },
  {
   "cell_type": "code",
   "execution_count": 123,
   "id": "5ecc4328-1e9e-47de-832a-bfdaccb63f3f",
   "metadata": {},
   "outputs": [
    {
     "data": {
      "text/plain": [
       "array([ 1,  2,  3,  4,  5,  6,  7,  8,  9, 10, 11, 12, 13, 14, 15])"
      ]
     },
     "execution_count": 123,
     "metadata": {},
     "output_type": "execute_result"
    }
   ],
   "source": [
    "example = np.arange(1,16)\n",
    "example"
   ]
  },
  {
   "cell_type": "code",
   "execution_count": 128,
   "id": "aff7e5db-dfaa-41d3-bda5-0c9c95b51cf0",
   "metadata": {},
   "outputs": [
    {
     "data": {
      "text/plain": [
       "array([[ 1,  2,  3,  4,  5],\n",
       "       [ 6,  7,  8,  9, 10],\n",
       "       [11, 12, 13, 14, 15]])"
      ]
     },
     "execution_count": 128,
     "metadata": {},
     "output_type": "execute_result"
    }
   ],
   "source": [
    "example.reshape(3,5)"
   ]
  },
  {
   "cell_type": "code",
   "execution_count": 130,
   "id": "b63473d3-c18c-4130-a9bd-277c4ce73c5c",
   "metadata": {},
   "outputs": [
    {
     "data": {
      "text/plain": [
       "array([[ 1,  2,  3,  4,  5,  6,  7,  8,  9, 10, 11, 12, 13, 14, 15]])"
      ]
     },
     "execution_count": 130,
     "metadata": {},
     "output_type": "execute_result"
    }
   ],
   "source": [
    "array = example.reshape((1,15))\n",
    "array"
   ]
  },
  {
   "cell_type": "code",
   "execution_count": 131,
   "id": "503b2e23-0995-4002-bcc8-2ba69d349d37",
   "metadata": {},
   "outputs": [
    {
     "data": {
      "text/plain": [
       "1"
      ]
     },
     "execution_count": 131,
     "metadata": {},
     "output_type": "execute_result"
    }
   ],
   "source": [
    "example.ndim"
   ]
  },
  {
   "cell_type": "code",
   "execution_count": 132,
   "id": "dcf0bf26-60b6-4000-bf1b-0df2202876ed",
   "metadata": {},
   "outputs": [
    {
     "data": {
      "text/plain": [
       "2"
      ]
     },
     "execution_count": 132,
     "metadata": {},
     "output_type": "execute_result"
    }
   ],
   "source": [
    "array.ndim"
   ]
  },
  {
   "cell_type": "code",
   "execution_count": 134,
   "id": "89931658-557b-4bec-9760-a8666b36cd7e",
   "metadata": {},
   "outputs": [
    {
     "data": {
      "text/plain": [
       "array([ 8, 23, 40, 48, 39, 18, 27, 44, 42, 43])"
      ]
     },
     "execution_count": 134,
     "metadata": {},
     "output_type": "execute_result"
    }
   ],
   "source": [
    "array = np.random.randint(0,50,10)\n",
    "array"
   ]
  },
  {
   "cell_type": "code",
   "execution_count": 137,
   "id": "9c3e1f51-5100-4385-9d46-95083d4e21f2",
   "metadata": {},
   "outputs": [
    {
     "data": {
      "text/plain": [
       "48"
      ]
     },
     "execution_count": 137,
     "metadata": {},
     "output_type": "execute_result"
    }
   ],
   "source": [
    "array.max()"
   ]
  },
  {
   "cell_type": "code",
   "execution_count": 138,
   "id": "e1c87884-fbd3-4da5-bda5-297d63c451bb",
   "metadata": {},
   "outputs": [
    {
     "data": {
      "text/plain": [
       "3"
      ]
     },
     "execution_count": 138,
     "metadata": {},
     "output_type": "execute_result"
    }
   ],
   "source": [
    "array.argmax()"
   ]
  },
  {
   "cell_type": "code",
   "execution_count": 140,
   "id": "b02dc3d4-fffa-4deb-946f-f38a50912d84",
   "metadata": {},
   "outputs": [
    {
     "data": {
      "text/plain": [
       "array([[37, 35, 44],\n",
       "       [14, 31, 46],\n",
       "       [20, 24,  6],\n",
       "       [ 5,  6, 35]])"
      ]
     },
     "execution_count": 140,
     "metadata": {},
     "output_type": "execute_result"
    }
   ],
   "source": [
    "array2 = np.random.randint(0,50,(4,3))\n",
    "array2"
   ]
  },
  {
   "cell_type": "code",
   "execution_count": 141,
   "id": "b2934ab1-0e39-4b8e-89ff-d4614b4a5c89",
   "metadata": {},
   "outputs": [
    {
     "data": {
      "text/plain": [
       "46"
      ]
     },
     "execution_count": 141,
     "metadata": {},
     "output_type": "execute_result"
    }
   ],
   "source": [
    "array2.max()"
   ]
  },
  {
   "cell_type": "code",
   "execution_count": 144,
   "id": "2aa78699-2c5d-480a-b5c6-b0f62d700473",
   "metadata": {},
   "outputs": [
    {
     "data": {
      "text/plain": [
       "5"
      ]
     },
     "execution_count": 144,
     "metadata": {},
     "output_type": "execute_result"
    }
   ],
   "source": [
    "array2.argmax()"
   ]
  },
  {
   "cell_type": "code",
   "execution_count": 146,
   "id": "1d2ec3a5-7278-4938-b1e3-a2d1c0fa4b9e",
   "metadata": {},
   "outputs": [
    {
     "name": "stdout",
     "output_type": "stream",
     "text": [
      "[ 8 23 40 48 39 18 27 44 42 43]\n"
     ]
    },
    {
     "data": {
      "text/plain": [
       "8"
      ]
     },
     "execution_count": 146,
     "metadata": {},
     "output_type": "execute_result"
    }
   ],
   "source": [
    "print(array)\n",
    "array.min()"
   ]
  },
  {
   "cell_type": "code",
   "execution_count": 147,
   "id": "d80f6383-9222-4d53-a4d6-386baa3c05a3",
   "metadata": {},
   "outputs": [
    {
     "data": {
      "text/plain": [
       "0"
      ]
     },
     "execution_count": 147,
     "metadata": {},
     "output_type": "execute_result"
    }
   ],
   "source": [
    "array.argmin()"
   ]
  },
  {
   "cell_type": "code",
   "execution_count": 150,
   "id": "0c9137b5-6e01-46cc-a362-7a1cb1a234a7",
   "metadata": {},
   "outputs": [
    {
     "name": "stdout",
     "output_type": "stream",
     "text": [
      "[[37 35 44]\n",
      " [14 31 46]\n",
      " [20 24  6]\n",
      " [ 5  6 35]]\n"
     ]
    },
    {
     "data": {
      "text/plain": [
       "5"
      ]
     },
     "execution_count": 150,
     "metadata": {},
     "output_type": "execute_result"
    }
   ],
   "source": [
    "print(array2)\n",
    "array2.min()"
   ]
  },
  {
   "cell_type": "code",
   "execution_count": 149,
   "id": "d7283379-03fb-4b6e-b2f2-65332f0b5b61",
   "metadata": {},
   "outputs": [
    {
     "data": {
      "text/plain": [
       "9"
      ]
     },
     "execution_count": 149,
     "metadata": {},
     "output_type": "execute_result"
    }
   ],
   "source": [
    "array2.argmin()"
   ]
  },
  {
   "cell_type": "code",
   "execution_count": 151,
   "id": "a2d6f18b-d65f-42cc-902c-db32f65103ad",
   "metadata": {},
   "outputs": [
    {
     "name": "stdout",
     "output_type": "stream",
     "text": [
      "[1 2 3 4] [5 6 7 8]\n"
     ]
    }
   ],
   "source": [
    "array1 = np.array([1,2,3,4])\n",
    "array2 = np.array([5,6,7,8])\n",
    "print(array1,array2)"
   ]
  },
  {
   "cell_type": "code",
   "execution_count": 153,
   "id": "4c8d7056-a9a2-44de-a6d2-d56d429d4665",
   "metadata": {},
   "outputs": [
    {
     "data": {
      "text/plain": [
       "array([1, 2, 3, 4, 5, 6, 7, 8])"
      ]
     },
     "execution_count": 153,
     "metadata": {},
     "output_type": "execute_result"
    }
   ],
   "source": [
    "np.concatenate([array1,array2])"
   ]
  },
  {
   "cell_type": "code",
   "execution_count": 156,
   "id": "6cb156a2-6ab2-4764-86dd-e543524fd98c",
   "metadata": {},
   "outputs": [
    {
     "data": {
      "text/plain": [
       "array([[1, 2, 3],\n",
       "       [4, 5, 6]])"
      ]
     },
     "execution_count": 156,
     "metadata": {},
     "output_type": "execute_result"
    }
   ],
   "source": [
    "array3 = np.arange(1,7).reshape((2,3))\n",
    "array3"
   ]
  },
  {
   "cell_type": "code",
   "execution_count": 157,
   "id": "80fafc6c-70c2-4fd5-bc38-410dcb16b4ad",
   "metadata": {},
   "outputs": [
    {
     "data": {
      "text/plain": [
       "array([[ 7,  8,  9],\n",
       "       [10, 11, 12]])"
      ]
     },
     "execution_count": 157,
     "metadata": {},
     "output_type": "execute_result"
    }
   ],
   "source": [
    "array4 = np.array([[7,8,9],[10,11,12]])\n",
    "array4"
   ]
  },
  {
   "cell_type": "code",
   "execution_count": 158,
   "id": "1b422dcb-9b37-485e-9b0c-a7c027cd3f72",
   "metadata": {},
   "outputs": [
    {
     "data": {
      "text/plain": [
       "array([[ 1,  2,  3],\n",
       "       [ 4,  5,  6],\n",
       "       [ 7,  8,  9],\n",
       "       [10, 11, 12]])"
      ]
     },
     "execution_count": 158,
     "metadata": {},
     "output_type": "execute_result"
    }
   ],
   "source": [
    "np.concatenate([array3,array4])"
   ]
  },
  {
   "cell_type": "code",
   "execution_count": 163,
   "id": "ee066f19-ed00-416e-aab4-e80c8db76a09",
   "metadata": {},
   "outputs": [
    {
     "name": "stdout",
     "output_type": "stream",
     "text": [
      "array3:  [[1 2 3]\n",
      " [4 5 6]]\n",
      "array4:  [[ 7  8  9]\n",
      " [10 11 12]]\n"
     ]
    },
    {
     "data": {
      "text/plain": [
       "array([[ 1,  2,  3,  7,  8,  9],\n",
       "       [ 4,  5,  6, 10, 11, 12]])"
      ]
     },
     "execution_count": 163,
     "metadata": {},
     "output_type": "execute_result"
    }
   ],
   "source": [
    "print(\"array3: \",array3)\n",
    "print(\"array4: \",array4)\n",
    "np.concatenate([array3,array4],axis = 1)"
   ]
  },
  {
   "cell_type": "code",
   "execution_count": 165,
   "id": "6ad2ab8c-8736-4db9-8f84-b0d9e085dce8",
   "metadata": {},
   "outputs": [
    {
     "name": "stdout",
     "output_type": "stream",
     "text": [
      "array1:  [1 2 3 4]\n",
      "array3:  [[1 2 3]\n",
      " [4 5 6]]\n"
     ]
    },
    {
     "ename": "ValueError",
     "evalue": "all the input arrays must have same number of dimensions, but the array at index 0 has 1 dimension(s) and the array at index 1 has 2 dimension(s)",
     "output_type": "error",
     "traceback": [
      "\u001b[1;31m----------------------------------------------------------------\u001b[0m",
      "\u001b[1;31mValueError\u001b[0m                     Traceback (most recent call last)",
      "Cell \u001b[1;32mIn[165], line 3\u001b[0m\n\u001b[0;32m      1\u001b[0m \u001b[38;5;28mprint\u001b[39m(\u001b[38;5;124m\"\u001b[39m\u001b[38;5;124marray1: \u001b[39m\u001b[38;5;124m\"\u001b[39m,array1)\n\u001b[0;32m      2\u001b[0m \u001b[38;5;28mprint\u001b[39m(\u001b[38;5;124m\"\u001b[39m\u001b[38;5;124marray3: \u001b[39m\u001b[38;5;124m\"\u001b[39m,array3)\n\u001b[1;32m----> 3\u001b[0m np\u001b[38;5;241m.\u001b[39mconcatenate([array1,array3])\n",
      "\u001b[1;31mValueError\u001b[0m: all the input arrays must have same number of dimensions, but the array at index 0 has 1 dimension(s) and the array at index 1 has 2 dimension(s)"
     ]
    }
   ],
   "source": [
    "print(\"array1: \",array1)\n",
    "print(\"array3: \",array3)\n",
    "np.concatenate([array1,array3])"
   ]
  },
  {
   "cell_type": "code",
   "execution_count": 168,
   "id": "120433ac-f759-4e9a-bc5b-5a51f117c2d7",
   "metadata": {},
   "outputs": [
    {
     "data": {
      "text/plain": [
       "array([[ 1,  2],\n",
       "       [ 3,  4],\n",
       "       [ 5,  6],\n",
       "       [ 7,  8],\n",
       "       [ 9, 10]])"
      ]
     },
     "execution_count": 168,
     "metadata": {},
     "output_type": "execute_result"
    }
   ],
   "source": [
    "array5 = np.arange(1,11).reshape(5,2)\n",
    "array5"
   ]
  },
  {
   "cell_type": "code",
   "execution_count": 169,
   "id": "d9d9aeed-c68f-47ba-876d-a017707d19bd",
   "metadata": {},
   "outputs": [
    {
     "ename": "ValueError",
     "evalue": "all the input array dimensions except for the concatenation axis must match exactly, but along dimension 1, the array at index 0 has size 3 and the array at index 1 has size 2",
     "output_type": "error",
     "traceback": [
      "\u001b[1;31m----------------------------------------------------------------\u001b[0m",
      "\u001b[1;31mValueError\u001b[0m                     Traceback (most recent call last)",
      "Cell \u001b[1;32mIn[169], line 1\u001b[0m\n\u001b[1;32m----> 1\u001b[0m np\u001b[38;5;241m.\u001b[39mconcatenate([array3,array5])\n",
      "\u001b[1;31mValueError\u001b[0m: all the input array dimensions except for the concatenation axis must match exactly, but along dimension 1, the array at index 0 has size 3 and the array at index 1 has size 2"
     ]
    }
   ],
   "source": [
    "np.concatenate([array3,array5])"
   ]
  },
  {
   "cell_type": "code",
   "execution_count": 4,
   "id": "16689ad7-9b93-4327-88bd-ac79ba2ecc69",
   "metadata": {},
   "outputs": [
    {
     "data": {
      "text/plain": [
       "array([ 1,  3,  5, 50, 50,  2,  4,  6])"
      ]
     },
     "execution_count": 4,
     "metadata": {},
     "output_type": "execute_result"
    }
   ],
   "source": [
    "array = np.array([1,3,5,50,50,2,4,6])\n",
    "array"
   ]
  },
  {
   "cell_type": "code",
   "execution_count": 14,
   "id": "5e2d7ad8-fb46-43f3-a3aa-8668ddd0f76c",
   "metadata": {},
   "outputs": [
    {
     "data": {
      "text/plain": [
       "[array([1, 3, 5]), array([50, 50]), array([2, 4, 6])]"
      ]
     },
     "execution_count": 14,
     "metadata": {},
     "output_type": "execute_result"
    }
   ],
   "source": [
    "np.split(array,[3,5])"
   ]
  },
  {
   "cell_type": "code",
   "execution_count": 19,
   "id": "7704a80e-6c00-48e5-9092-aa7d890f06fa",
   "metadata": {},
   "outputs": [
    {
     "name": "stdout",
     "output_type": "stream",
     "text": [
      "[1 3 5] [50 50] [2 4 6]\n"
     ]
    }
   ],
   "source": [
    "x,y,z = np.split(array,[3,5])\n",
    "print(x,y,z)"
   ]
  },
  {
   "cell_type": "code",
   "execution_count": 20,
   "id": "1c18fab6-1ede-4d81-82d7-bfb20a805112",
   "metadata": {},
   "outputs": [
    {
     "data": {
      "text/plain": [
       "[array([1, 3]), array([ 5, 50]), array([50,  2]), array([4, 6])]"
      ]
     },
     "execution_count": 20,
     "metadata": {},
     "output_type": "execute_result"
    }
   ],
   "source": [
    "np.split(array,4)"
   ]
  },
  {
   "cell_type": "code",
   "execution_count": 24,
   "id": "887af0c6-b513-449e-87ba-858786e9c756",
   "metadata": {},
   "outputs": [
    {
     "ename": "ValueError",
     "evalue": "array split does not result in an equal division",
     "output_type": "error",
     "traceback": [
      "\u001b[1;31m---------------------------------------------------------------------------\u001b[0m",
      "\u001b[1;31mValueError\u001b[0m                                Traceback (most recent call last)",
      "Cell \u001b[1;32mIn[24], line 1\u001b[0m\n\u001b[1;32m----> 1\u001b[0m np\u001b[38;5;241m.\u001b[39msplit(array,\u001b[38;5;241m5\u001b[39m)\n",
      "File \u001b[1;32m~\\anaconda3\\Lib\\site-packages\\numpy\\lib\\shape_base.py:864\u001b[0m, in \u001b[0;36msplit\u001b[1;34m(ary, indices_or_sections, axis)\u001b[0m\n\u001b[0;32m    862\u001b[0m     N \u001b[38;5;241m=\u001b[39m ary\u001b[38;5;241m.\u001b[39mshape[axis]\n\u001b[0;32m    863\u001b[0m     \u001b[38;5;28;01mif\u001b[39;00m N \u001b[38;5;241m%\u001b[39m sections:\n\u001b[1;32m--> 864\u001b[0m         \u001b[38;5;28;01mraise\u001b[39;00m \u001b[38;5;167;01mValueError\u001b[39;00m(\n\u001b[0;32m    865\u001b[0m             \u001b[38;5;124m'\u001b[39m\u001b[38;5;124marray split does not result in an equal division\u001b[39m\u001b[38;5;124m'\u001b[39m) \u001b[38;5;28;01mfrom\u001b[39;00m \u001b[38;5;28;01mNone\u001b[39;00m\n\u001b[0;32m    866\u001b[0m \u001b[38;5;28;01mreturn\u001b[39;00m array_split(ary, indices_or_sections, axis)\n",
      "\u001b[1;31mValueError\u001b[0m: array split does not result in an equal division"
     ]
    }
   ],
   "source": [
    "np.split(array,5)"
   ]
  },
  {
   "cell_type": "code",
   "execution_count": 27,
   "id": "4d899f2a-4522-45a3-8d1e-c1631d95b7e4",
   "metadata": {},
   "outputs": [
    {
     "data": {
      "text/plain": [
       "array([[ 0,  1,  2,  3],\n",
       "       [ 4,  5,  6,  7],\n",
       "       [ 8,  9, 10, 11],\n",
       "       [12, 13, 14, 15],\n",
       "       [16, 17, 18, 19]])"
      ]
     },
     "execution_count": 27,
     "metadata": {},
     "output_type": "execute_result"
    }
   ],
   "source": [
    "\n",
    "array = np.arange(20).reshape(5,4)\n",
    "array\n"
   ]
  },
  {
   "cell_type": "code",
   "execution_count": 28,
   "id": "74975c10-f68d-4091-9c65-7a98a285abaf",
   "metadata": {},
   "outputs": [
    {
     "data": {
      "text/plain": [
       "[array([[0, 1, 2, 3]]),\n",
       " array([[ 4,  5,  6,  7],\n",
       "        [ 8,  9, 10, 11]]),\n",
       " array([[12, 13, 14, 15],\n",
       "        [16, 17, 18, 19]])]"
      ]
     },
     "execution_count": 28,
     "metadata": {},
     "output_type": "execute_result"
    }
   ],
   "source": [
    "np.split(array,[1,3])"
   ]
  },
  {
   "cell_type": "code",
   "execution_count": 30,
   "id": "4c851042-9102-44fb-9dd2-0e7c9e13727e",
   "metadata": {},
   "outputs": [
    {
     "name": "stdout",
     "output_type": "stream",
     "text": [
      "[[0 1 2 3]] [[ 4  5  6  7]\n",
      " [ 8  9 10 11]] [[12 13 14 15]\n",
      " [16 17 18 19]]\n"
     ]
    }
   ],
   "source": [
    "x,y,z = np.split(array,[1,3])\n",
    "print(x,y,z)"
   ]
  },
  {
   "cell_type": "code",
   "execution_count": 37,
   "id": "034bce47-4efe-4d4a-b5ad-4da8595c1c79",
   "metadata": {},
   "outputs": [
    {
     "data": {
      "text/plain": [
       "[array([[ 0],\n",
       "        [ 4],\n",
       "        [ 8],\n",
       "        [12],\n",
       "        [16]]),\n",
       " array([[ 1,  2],\n",
       "        [ 5,  6],\n",
       "        [ 9, 10],\n",
       "        [13, 14],\n",
       "        [17, 18]]),\n",
       " array([[ 3],\n",
       "        [ 7],\n",
       "        [11],\n",
       "        [15],\n",
       "        [19]])]"
      ]
     },
     "execution_count": 37,
     "metadata": {},
     "output_type": "execute_result"
    }
   ],
   "source": [
    "np.split(array,[1,3],axis = 1)"
   ]
  },
  {
   "cell_type": "code",
   "execution_count": 38,
   "id": "cf1b2a9f-4434-4b45-85a7-f6a20aa4124a",
   "metadata": {},
   "outputs": [
    {
     "data": {
      "text/plain": [
       "array([[ 0,  1,  2,  3],\n",
       "       [ 4,  5,  6,  7],\n",
       "       [ 8,  9, 10, 11],\n",
       "       [12, 13, 14, 15],\n",
       "       [16, 17, 18, 19]])"
      ]
     },
     "execution_count": 38,
     "metadata": {},
     "output_type": "execute_result"
    }
   ],
   "source": [
    "array"
   ]
  },
  {
   "cell_type": "code",
   "execution_count": 39,
   "id": "d1343ac5-b27b-4abc-a83e-f3b8161c891a",
   "metadata": {},
   "outputs": [
    {
     "data": {
      "text/plain": [
       "[array([[ 0],\n",
       "        [ 4],\n",
       "        [ 8],\n",
       "        [12],\n",
       "        [16]]),\n",
       " array([[ 1],\n",
       "        [ 5],\n",
       "        [ 9],\n",
       "        [13],\n",
       "        [17]]),\n",
       " array([[ 2],\n",
       "        [ 6],\n",
       "        [10],\n",
       "        [14],\n",
       "        [18]]),\n",
       " array([[ 3],\n",
       "        [ 7],\n",
       "        [11],\n",
       "        [15],\n",
       "        [19]])]"
      ]
     },
     "execution_count": 39,
     "metadata": {},
     "output_type": "execute_result"
    }
   ],
   "source": [
    "np.hsplit(array,4)"
   ]
  },
  {
   "cell_type": "code",
   "execution_count": 41,
   "id": "f42b120e-eb64-4b78-a16b-b2449bee0ca1",
   "metadata": {},
   "outputs": [
    {
     "data": {
      "text/plain": [
       "[array([[ 0],\n",
       "        [ 4],\n",
       "        [ 8],\n",
       "        [12],\n",
       "        [16]]),\n",
       " array([[ 1,  2],\n",
       "        [ 5,  6],\n",
       "        [ 9, 10],\n",
       "        [13, 14],\n",
       "        [17, 18]]),\n",
       " array([[ 3],\n",
       "        [ 7],\n",
       "        [11],\n",
       "        [15],\n",
       "        [19]])]"
      ]
     },
     "execution_count": 41,
     "metadata": {},
     "output_type": "execute_result"
    }
   ],
   "source": [
    "np.hsplit(array,[1,3])"
   ]
  },
  {
   "cell_type": "code",
   "execution_count": 42,
   "id": "e9cfbe1d-aeeb-4bdd-a526-d9ff3bafd234",
   "metadata": {},
   "outputs": [
    {
     "data": {
      "text/plain": [
       "[array([[0, 1, 2, 3]]),\n",
       " array([[4, 5, 6, 7]]),\n",
       " array([[ 8,  9, 10, 11]]),\n",
       " array([[12, 13, 14, 15]]),\n",
       " array([[16, 17, 18, 19]])]"
      ]
     },
     "execution_count": 42,
     "metadata": {},
     "output_type": "execute_result"
    }
   ],
   "source": [
    "np.vsplit(array,5)"
   ]
  },
  {
   "cell_type": "code",
   "execution_count": 43,
   "id": "7ebdfeac-a560-46ed-9fde-33cb77613258",
   "metadata": {},
   "outputs": [
    {
     "data": {
      "text/plain": [
       "[array([[0, 1, 2, 3],\n",
       "        [4, 5, 6, 7]]),\n",
       " array([[ 8,  9, 10, 11],\n",
       "        [12, 13, 14, 15]]),\n",
       " array([[16, 17, 18, 19]])]"
      ]
     },
     "execution_count": 43,
     "metadata": {},
     "output_type": "execute_result"
    }
   ],
   "source": [
    "np.vsplit(array,[2,4])"
   ]
  },
  {
   "cell_type": "code",
   "execution_count": 44,
   "id": "b7e4773d-7ed4-4539-b547-a9b542a9dd70",
   "metadata": {},
   "outputs": [
    {
     "data": {
      "text/plain": [
       "array([3, 5, 1, 8, 6, 2, 9])"
      ]
     },
     "execution_count": 44,
     "metadata": {},
     "output_type": "execute_result"
    }
   ],
   "source": [
    "variable = np.array([3,5,1,8,6,2,9])\n",
    "variable"
   ]
  },
  {
   "cell_type": "code",
   "execution_count": 45,
   "id": "dd728462-90d5-4270-bdac-ea10aba20dd8",
   "metadata": {},
   "outputs": [
    {
     "data": {
      "text/plain": [
       "array([1, 2, 3, 5, 6, 8, 9])"
      ]
     },
     "execution_count": 45,
     "metadata": {},
     "output_type": "execute_result"
    }
   ],
   "source": [
    "np.sort(variable)"
   ]
  },
  {
   "cell_type": "code",
   "execution_count": 47,
   "id": "c0c72f59-b6a5-48ed-a792-cef0df9437c4",
   "metadata": {},
   "outputs": [
    {
     "data": {
      "text/plain": [
       "array([[29.83301955, 35.64820815, 41.38990588, 18.71708629],\n",
       "       [27.74671576, 18.21870513, 33.12025506, 36.64504518],\n",
       "       [16.81355264, 20.29211457, 30.75138855, 24.89514389],\n",
       "       [24.13842218, 24.34253973, 19.92139391, 24.38247562]])"
      ]
     },
     "execution_count": 47,
     "metadata": {},
     "output_type": "execute_result"
    }
   ],
   "source": [
    "example = np.random.normal(30,10,(4,4))\n",
    "example"
   ]
  },
  {
   "cell_type": "code",
   "execution_count": 48,
   "id": "d816f47b-1e1d-40ce-97d9-e62e35e7694a",
   "metadata": {},
   "outputs": [
    {
     "data": {
      "text/plain": [
       "array([[16.81355264, 18.21870513, 19.92139391, 18.71708629],\n",
       "       [24.13842218, 20.29211457, 30.75138855, 24.38247562],\n",
       "       [27.74671576, 24.34253973, 33.12025506, 24.89514389],\n",
       "       [29.83301955, 35.64820815, 41.38990588, 36.64504518]])"
      ]
     },
     "execution_count": 48,
     "metadata": {},
     "output_type": "execute_result"
    }
   ],
   "source": [
    "np.sort(example, axis = 0)"
   ]
  },
  {
   "cell_type": "code",
   "execution_count": 49,
   "id": "b1d2c9b7-1946-4242-ad5b-7ee6320e4e27",
   "metadata": {},
   "outputs": [
    {
     "data": {
      "text/plain": [
       "array([[18.71708629, 29.83301955, 35.64820815, 41.38990588],\n",
       "       [18.21870513, 27.74671576, 33.12025506, 36.64504518],\n",
       "       [16.81355264, 20.29211457, 24.89514389, 30.75138855],\n",
       "       [19.92139391, 24.13842218, 24.34253973, 24.38247562]])"
      ]
     },
     "execution_count": 49,
     "metadata": {},
     "output_type": "execute_result"
    }
   ],
   "source": [
    "np.sort(example,axis = 1)"
   ]
  },
  {
   "cell_type": "code",
   "execution_count": 50,
   "id": "3845cb85-03f8-43b8-a14e-cfaee5594051",
   "metadata": {},
   "outputs": [
    {
     "data": {
      "text/plain": [
       "array([ 0,  1,  2,  3,  4,  5,  6,  7,  8,  9, 10])"
      ]
     },
     "execution_count": 50,
     "metadata": {},
     "output_type": "execute_result"
    }
   ],
   "source": [
    "#from here in notes again\n",
    "array = np.arange(0,11)\n",
    "array"
   ]
  },
  {
   "cell_type": "code",
   "execution_count": 52,
   "id": "4f9748df-37ba-4b71-975d-62635639294d",
   "metadata": {},
   "outputs": [
    {
     "data": {
      "text/plain": [
       "4"
      ]
     },
     "execution_count": 52,
     "metadata": {},
     "output_type": "execute_result"
    }
   ],
   "source": [
    "array[4]"
   ]
  },
  {
   "cell_type": "code",
   "execution_count": 53,
   "id": "bfa8097e-8886-4b29-a54c-27ba86b1255c",
   "metadata": {},
   "outputs": [
    {
     "data": {
      "text/plain": [
       "10"
      ]
     },
     "execution_count": 53,
     "metadata": {},
     "output_type": "execute_result"
    }
   ],
   "source": [
    "array[-1]"
   ]
  },
  {
   "cell_type": "code",
   "execution_count": 65,
   "id": "ff950f4a-6496-4b91-aea4-2c3bae241cc6",
   "metadata": {},
   "outputs": [
    {
     "data": {
      "text/plain": [
       "array([[ 5, 10, 15],\n",
       "       [20, 25, 30],\n",
       "       [35, 40, 45]])"
      ]
     },
     "execution_count": 65,
     "metadata": {},
     "output_type": "execute_result"
    }
   ],
   "source": [
    "variable = np.linspace(5,45,9,dtype = \"int\").reshape(3,3)\n",
    "variable"
   ]
  },
  {
   "cell_type": "code",
   "execution_count": 72,
   "id": "897d8a46-a093-4075-aba5-0987af364de4",
   "metadata": {},
   "outputs": [
    {
     "data": {
      "text/plain": [
       "25"
      ]
     },
     "execution_count": 72,
     "metadata": {},
     "output_type": "execute_result"
    }
   ],
   "source": [
    "variable[1,1]"
   ]
  },
  {
   "cell_type": "code",
   "execution_count": 74,
   "id": "8ba82bb0-2716-4664-b168-3faca0f8c5aa",
   "metadata": {},
   "outputs": [
    {
     "data": {
      "text/plain": [
       "array([10, 11, 12, 13, 14, 15, 16, 17, 18, 19])"
      ]
     },
     "execution_count": 74,
     "metadata": {},
     "output_type": "execute_result"
    }
   ],
   "source": [
    "example = np.arange(10,20)\n",
    "example"
   ]
  },
  {
   "cell_type": "code",
   "execution_count": 75,
   "id": "2002cc79-761a-41f9-9658-e66b89d9753b",
   "metadata": {},
   "outputs": [
    {
     "data": {
      "text/plain": [
       "array([12, 13, 14, 15])"
      ]
     },
     "execution_count": 75,
     "metadata": {},
     "output_type": "execute_result"
    }
   ],
   "source": [
    "example[2:6]"
   ]
  },
  {
   "cell_type": "code",
   "execution_count": 76,
   "id": "090c2955-bac5-4f07-aa8e-f04ae4d8d716",
   "metadata": {},
   "outputs": [
    {
     "data": {
      "text/plain": [
       "array([13, 15, 17, 19])"
      ]
     },
     "execution_count": 76,
     "metadata": {},
     "output_type": "execute_result"
    }
   ],
   "source": [
    "example[3::2]"
   ]
  },
  {
   "cell_type": "code",
   "execution_count": 79,
   "id": "cdd8dea9-4a2c-4f29-a8eb-624f2a65b428",
   "metadata": {},
   "outputs": [
    {
     "data": {
      "text/plain": [
       "array([10, 13, 16])"
      ]
     },
     "execution_count": 79,
     "metadata": {},
     "output_type": "execute_result"
    }
   ],
   "source": [
    "example[:7:3]"
   ]
  },
  {
   "cell_type": "code",
   "execution_count": 80,
   "id": "70458b65-623a-4f50-8dde-3c0ce8081b44",
   "metadata": {},
   "outputs": [],
   "source": [
    "array = np.arange(30).reshape(6,5)"
   ]
  },
  {
   "cell_type": "code",
   "execution_count": 81,
   "id": "5cc9cbce-affb-4791-801e-370790ad7952",
   "metadata": {},
   "outputs": [
    {
     "data": {
      "text/plain": [
       "array([[ 0,  1,  2,  3,  4],\n",
       "       [ 5,  6,  7,  8,  9],\n",
       "       [10, 11, 12, 13, 14],\n",
       "       [15, 16, 17, 18, 19],\n",
       "       [20, 21, 22, 23, 24],\n",
       "       [25, 26, 27, 28, 29]])"
      ]
     },
     "execution_count": 81,
     "metadata": {},
     "output_type": "execute_result"
    }
   ],
   "source": [
    "array"
   ]
  },
  {
   "cell_type": "code",
   "execution_count": 86,
   "id": "f250aec3-2dd1-4abf-8abb-a350ad79053d",
   "metadata": {},
   "outputs": [
    {
     "data": {
      "text/plain": [
       "array([10, 11, 12, 13, 14])"
      ]
     },
     "execution_count": 86,
     "metadata": {},
     "output_type": "execute_result"
    }
   ],
   "source": [
    "array[2, :]"
   ]
  },
  {
   "cell_type": "code",
   "execution_count": 87,
   "id": "5189a6a3-82f1-4426-89e6-fc2c94908e78",
   "metadata": {},
   "outputs": [
    {
     "data": {
      "text/plain": [
       "array([10, 11, 12, 13, 14])"
      ]
     },
     "execution_count": 87,
     "metadata": {},
     "output_type": "execute_result"
    }
   ],
   "source": [
    "array[2]"
   ]
  },
  {
   "cell_type": "code",
   "execution_count": 88,
   "id": "45aaf194-d174-4a8a-b734-7d357665f698",
   "metadata": {},
   "outputs": [
    {
     "data": {
      "text/plain": [
       "array([0, 1, 2, 3, 4])"
      ]
     },
     "execution_count": 88,
     "metadata": {},
     "output_type": "execute_result"
    }
   ],
   "source": [
    "array[0]"
   ]
  },
  {
   "cell_type": "code",
   "execution_count": 90,
   "id": "3ecaed2e-2ef4-45e9-aa32-196f6289ca46",
   "metadata": {},
   "outputs": [
    {
     "data": {
      "text/plain": [
       "array([ 2,  7, 12, 17, 22, 27])"
      ]
     },
     "execution_count": 90,
     "metadata": {},
     "output_type": "execute_result"
    }
   ],
   "source": [
    "array[:,2]"
   ]
  },
  {
   "cell_type": "code",
   "execution_count": 95,
   "id": "f7859bd5-c052-47dc-8704-ed76d3c96288",
   "metadata": {},
   "outputs": [
    {
     "data": {
      "text/plain": [
       "array([ 0,  5, 10, 15, 20, 25])"
      ]
     },
     "execution_count": 95,
     "metadata": {},
     "output_type": "execute_result"
    }
   ],
   "source": [
    "array[:,0]"
   ]
  },
  {
   "cell_type": "code",
   "execution_count": 99,
   "id": "16e99a61-4252-41c5-858e-fe67b2709dd5",
   "metadata": {},
   "outputs": [
    {
     "data": {
      "text/plain": [
       "array([[ 5,  6,  7],\n",
       "       [10, 11, 12],\n",
       "       [15, 16, 17]])"
      ]
     },
     "execution_count": 99,
     "metadata": {},
     "output_type": "execute_result"
    }
   ],
   "source": [
    "array[1:4,0:3]"
   ]
  },
  {
   "cell_type": "code",
   "execution_count": 101,
   "id": "a3018e97-a2de-42d3-8e9d-e8ffe9519af0",
   "metadata": {},
   "outputs": [
    {
     "data": {
      "text/plain": [
       "array([[ 0,  2,  4],\n",
       "       [10, 12, 14],\n",
       "       [20, 22, 24]])"
      ]
     },
     "execution_count": 101,
     "metadata": {},
     "output_type": "execute_result"
    }
   ],
   "source": [
    "array[::2,::2]"
   ]
  },
  {
   "cell_type": "code",
   "execution_count": 106,
   "id": "7f6759a5-fcdf-43ea-894c-5a5ba40ba4a2",
   "metadata": {},
   "outputs": [
    {
     "data": {
      "text/plain": [
       "array([0, 1, 2, 3, 7, 5, 6, 9, 8, 9])"
      ]
     },
     "execution_count": 106,
     "metadata": {},
     "output_type": "execute_result"
    }
   ],
   "source": [
    "variable = np.array([0,1,2,3,7,5,6,9,8,9])\n",
    "variable"
   ]
  },
  {
   "cell_type": "code",
   "execution_count": 112,
   "id": "be7d8959-0a86-4d63-b385-fdae8bc3fe98",
   "metadata": {},
   "outputs": [],
   "source": [
    "variable[4] = 4\n",
    "variable[7] = 7"
   ]
  },
  {
   "cell_type": "code",
   "execution_count": 113,
   "id": "f9c7a3b1-ba7c-438b-bd93-89738cc2f7b8",
   "metadata": {},
   "outputs": [
    {
     "data": {
      "text/plain": [
       "array([0, 1, 2, 3, 4, 5, 6, 7, 8, 9])"
      ]
     },
     "execution_count": 113,
     "metadata": {},
     "output_type": "execute_result"
    }
   ],
   "source": [
    "variable"
   ]
  },
  {
   "cell_type": "code",
   "execution_count": 114,
   "id": "e950de14-c4cc-4a30-b4e1-43a11d9f2ac8",
   "metadata": {},
   "outputs": [
    {
     "data": {
      "text/plain": [
       "array([10, 10, 10, 10, 10,  5,  6,  7,  8,  9])"
      ]
     },
     "execution_count": 114,
     "metadata": {},
     "output_type": "execute_result"
    }
   ],
   "source": [
    "variable[0:5] = 10\n",
    "variable"
   ]
  },
  {
   "cell_type": "code",
   "execution_count": 115,
   "id": "25ca59d3-62f3-4e61-ba36-b151bf8e5fbb",
   "metadata": {},
   "outputs": [
    {
     "data": {
      "text/plain": [
       "array([5, 6, 7, 8, 9])"
      ]
     },
     "execution_count": 115,
     "metadata": {},
     "output_type": "execute_result"
    }
   ],
   "source": [
    "variable[5:]"
   ]
  },
  {
   "cell_type": "code",
   "execution_count": 118,
   "id": "ca8bc321-4751-46db-9428-aa0ce3451c2f",
   "metadata": {},
   "outputs": [
    {
     "data": {
      "text/plain": [
       "array([10, 10, 10, 10, 10, 20, 30, 40, 50, 60])"
      ]
     },
     "execution_count": 118,
     "metadata": {},
     "output_type": "execute_result"
    }
   ],
   "source": [
    "variable[5:] = 20,30,40,50,60\n",
    "variable"
   ]
  },
  {
   "cell_type": "code",
   "execution_count": 161,
   "id": "67ff7315-0afe-4cb1-ad22-8bef93d1ac7d",
   "metadata": {},
   "outputs": [
    {
     "data": {
      "text/plain": [
       "array([[10, 20, 30],\n",
       "       [40, 50, 60],\n",
       "       [70, 80, 90]])"
      ]
     },
     "execution_count": 161,
     "metadata": {},
     "output_type": "execute_result"
    }
   ],
   "source": [
    "example = np.linspace(10,90,9,dtype = \"int\").reshape(3,3)\n",
    "example"
   ]
  },
  {
   "cell_type": "code",
   "execution_count": 162,
   "id": "dd5fea83-8972-4807-8567-71a210dc1346",
   "metadata": {},
   "outputs": [
    {
     "data": {
      "text/plain": [
       "array([[ 10,  20,  30],\n",
       "       [ 40, 100,  60],\n",
       "       [ 70,  80,  90]])"
      ]
     },
     "execution_count": 162,
     "metadata": {},
     "output_type": "execute_result"
    }
   ],
   "source": [
    "example[1,1] = 100\n",
    "example"
   ]
  },
  {
   "cell_type": "code",
   "execution_count": 163,
   "id": "7a9d686a-7720-4e29-9704-f2973b13a2c4",
   "metadata": {},
   "outputs": [
    {
     "data": {
      "text/plain": [
       "array([[ 10,  20,  30],\n",
       "       [100, 100,  60],\n",
       "       [ 70,  80,  90]])"
      ]
     },
     "execution_count": 163,
     "metadata": {},
     "output_type": "execute_result"
    }
   ],
   "source": [
    "example[1,0] = 100.6\n",
    "example"
   ]
  },
  {
   "cell_type": "code",
   "execution_count": 164,
   "id": "31b7b831-13d2-4cae-ac02-4613b4af3590",
   "metadata": {},
   "outputs": [
    {
     "data": {
      "text/plain": [
       "array([[ 10,  20, 100],\n",
       "       [100, 100, 100],\n",
       "       [ 70,  80, 100]])"
      ]
     },
     "execution_count": 164,
     "metadata": {},
     "output_type": "execute_result"
    }
   ],
   "source": [
    "example[:,2] = 100\n",
    "example"
   ]
  },
  {
   "cell_type": "code",
   "execution_count": 165,
   "id": "c85817e2-506b-49a0-a695-33d0d8ca4594",
   "metadata": {},
   "outputs": [
    {
     "data": {
      "text/plain": [
       "array([[100, 100, 100],\n",
       "       [100, 100, 100],\n",
       "       [100, 100, 100]])"
      ]
     },
     "execution_count": 165,
     "metadata": {},
     "output_type": "execute_result"
    }
   ],
   "source": [
    "example[:3:2,:2] = 100\n",
    "example"
   ]
  },
  {
   "cell_type": "code",
   "execution_count": 167,
   "id": "2cc9b6dc-1d3b-4096-b694-64280f0ea6f0",
   "metadata": {},
   "outputs": [
    {
     "data": {
      "text/plain": [
       "array([[ 10,  20,  30],\n",
       "       [100, 100, 100],\n",
       "       [100, 100, 100]])"
      ]
     },
     "execution_count": 167,
     "metadata": {},
     "output_type": "execute_result"
    }
   ],
   "source": [
    "example[0] = 10,20,30\n",
    "example"
   ]
  },
  {
   "cell_type": "code",
   "execution_count": 168,
   "id": "9da755ad-81a1-465c-a302-608a6e9db781",
   "metadata": {},
   "outputs": [
    {
     "data": {
      "text/plain": [
       "array([ 0,  5, 10, 15, 20, 25, 30, 35, 40, 45])"
      ]
     },
     "execution_count": 168,
     "metadata": {},
     "output_type": "execute_result"
    }
   ],
   "source": [
    "fancy=np.arange(0,50,5)\n",
    "fancy"
   ]
  },
  {
   "cell_type": "code",
   "execution_count": 169,
   "id": "ce0d7785-b471-4f0b-aba5-4cea2d49e98a",
   "metadata": {},
   "outputs": [
    {
     "data": {
      "text/plain": [
       "15"
      ]
     },
     "execution_count": 169,
     "metadata": {},
     "output_type": "execute_result"
    }
   ],
   "source": [
    "fancy[3]"
   ]
  },
  {
   "cell_type": "code",
   "execution_count": 170,
   "id": "238d7505-4071-4fad-bd0d-b69f4b449a26",
   "metadata": {},
   "outputs": [
    {
     "data": {
      "text/plain": [
       "[5, 15, 25]"
      ]
     },
     "execution_count": 170,
     "metadata": {},
     "output_type": "execute_result"
    }
   ],
   "source": [
    "[fancy[1],fancy[3],fancy[5]]"
   ]
  },
  {
   "cell_type": "code",
   "execution_count": 171,
   "id": "448417e2-3a8f-4ca5-8465-b53b372dce28",
   "metadata": {},
   "outputs": [
    {
     "data": {
      "text/plain": [
       "array([ 5, 15, 25])"
      ]
     },
     "execution_count": 171,
     "metadata": {},
     "output_type": "execute_result"
    }
   ],
   "source": [
    "indexes = [1,3,5]\n",
    "fancy[indexes]"
   ]
  },
  {
   "cell_type": "code",
   "execution_count": 173,
   "id": "10e81884-3e25-4ea8-b1f5-846182098bdf",
   "metadata": {},
   "outputs": [
    {
     "data": {
      "text/plain": [
       "array([1, 3, 5])"
      ]
     },
     "execution_count": 173,
     "metadata": {},
     "output_type": "execute_result"
    }
   ],
   "source": [
    "array = np.array([1,3,5])\n",
    "array"
   ]
  },
  {
   "cell_type": "code",
   "execution_count": 175,
   "id": "a8a17de7-7b2b-45c2-b8d5-e44b116e59f2",
   "metadata": {},
   "outputs": [
    {
     "data": {
      "text/plain": [
       "array([ 5, 15, 25])"
      ]
     },
     "execution_count": 175,
     "metadata": {},
     "output_type": "execute_result"
    }
   ],
   "source": [
    "fancy[array]"
   ]
  },
  {
   "cell_type": "code",
   "execution_count": 176,
   "id": "14187b19-3448-44e0-8df5-e5bc1042c923",
   "metadata": {},
   "outputs": [
    {
     "data": {
      "text/plain": [
       "array([ 0,  5, 10, 15, 20, 25, 30, 35, 40, 45])"
      ]
     },
     "execution_count": 176,
     "metadata": {},
     "output_type": "execute_result"
    }
   ],
   "source": [
    "fancy"
   ]
  },
  {
   "cell_type": "code",
   "execution_count": 183,
   "id": "e722d134-1d3f-4557-af3c-32a1627b5cd7",
   "metadata": {},
   "outputs": [
    {
     "data": {
      "text/plain": [
       "array([45])"
      ]
     },
     "execution_count": 183,
     "metadata": {},
     "output_type": "execute_result"
    }
   ],
   "source": [
    "newindexing = [-1]\n",
    "fancy[newindexing]"
   ]
  },
  {
   "cell_type": "code",
   "execution_count": 185,
   "id": "1bee456d-67c2-4126-b3a7-5e6090d46b17",
   "metadata": {},
   "outputs": [
    {
     "data": {
      "text/plain": [
       "array([[0, 0, 0, 0, 0, 0, 0, 0, 0, 0],\n",
       "       [0, 0, 0, 0, 0, 0, 0, 0, 0, 0],\n",
       "       [0, 0, 0, 0, 0, 0, 0, 0, 0, 0],\n",
       "       [0, 0, 0, 0, 0, 0, 0, 0, 0, 0],\n",
       "       [0, 0, 0, 0, 0, 0, 0, 0, 0, 0],\n",
       "       [0, 0, 0, 0, 0, 0, 0, 0, 0, 0],\n",
       "       [0, 0, 0, 0, 0, 0, 0, 0, 0, 0],\n",
       "       [0, 0, 0, 0, 0, 0, 0, 0, 0, 0],\n",
       "       [0, 0, 0, 0, 0, 0, 0, 0, 0, 0],\n",
       "       [0, 0, 0, 0, 0, 0, 0, 0, 0, 0]])"
      ]
     },
     "execution_count": 185,
     "metadata": {},
     "output_type": "execute_result"
    }
   ],
   "source": [
    "variable = np.zeros((10,10),dtype = \"int\")\n",
    "variable"
   ]
  },
  {
   "cell_type": "code",
   "execution_count": 186,
   "id": "675c9d99-e70e-419a-b862-0f668023d9c5",
   "metadata": {},
   "outputs": [
    {
     "data": {
      "text/plain": [
       "(10, 10)"
      ]
     },
     "execution_count": 186,
     "metadata": {},
     "output_type": "execute_result"
    }
   ],
   "source": [
    "variable.shape"
   ]
  },
  {
   "cell_type": "code",
   "execution_count": 188,
   "id": "c49cc8f3-2af2-44d8-88bd-7c0b881f63c0",
   "metadata": {},
   "outputs": [
    {
     "data": {
      "text/plain": [
       "10"
      ]
     },
     "execution_count": 188,
     "metadata": {},
     "output_type": "execute_result"
    }
   ],
   "source": [
    "variable.shape[0]"
   ]
  },
  {
   "cell_type": "code",
   "execution_count": 190,
   "id": "5a9c51d4-2a6b-4c4b-9e01-c896e93b5470",
   "metadata": {},
   "outputs": [
    {
     "data": {
      "text/plain": [
       "10"
      ]
     },
     "execution_count": 190,
     "metadata": {},
     "output_type": "execute_result"
    }
   ],
   "source": [
    "row = variable.shape[0]\n",
    "row"
   ]
  },
  {
   "cell_type": "code",
   "execution_count": 191,
   "id": "e76bca29-d52c-486a-b427-3d7b2e73a438",
   "metadata": {},
   "outputs": [
    {
     "data": {
      "text/plain": [
       "array([[0, 0, 0, 0, 0, 0, 0, 0, 0, 0],\n",
       "       [1, 1, 1, 1, 1, 1, 1, 1, 1, 1],\n",
       "       [2, 2, 2, 2, 2, 2, 2, 2, 2, 2],\n",
       "       [3, 3, 3, 3, 3, 3, 3, 3, 3, 3],\n",
       "       [4, 4, 4, 4, 4, 4, 4, 4, 4, 4],\n",
       "       [5, 5, 5, 5, 5, 5, 5, 5, 5, 5],\n",
       "       [6, 6, 6, 6, 6, 6, 6, 6, 6, 6],\n",
       "       [7, 7, 7, 7, 7, 7, 7, 7, 7, 7],\n",
       "       [8, 8, 8, 8, 8, 8, 8, 8, 8, 8],\n",
       "       [9, 9, 9, 9, 9, 9, 9, 9, 9, 9]])"
      ]
     },
     "execution_count": 191,
     "metadata": {},
     "output_type": "execute_result"
    }
   ],
   "source": [
    "for i in range(row):\n",
    "    variable[i] = i\n",
    "variable"
   ]
  },
  {
   "cell_type": "code",
   "execution_count": 194,
   "id": "9f203c5a-e3e3-43c1-87a7-7c5d186f60ea",
   "metadata": {},
   "outputs": [
    {
     "data": {
      "text/plain": [
       "array([[1, 1, 1, 1, 1, 1, 1, 1, 1, 1],\n",
       "       [3, 3, 3, 3, 3, 3, 3, 3, 3, 3],\n",
       "       [5, 5, 5, 5, 5, 5, 5, 5, 5, 5],\n",
       "       [7, 7, 7, 7, 7, 7, 7, 7, 7, 7]])"
      ]
     },
     "execution_count": 194,
     "metadata": {},
     "output_type": "execute_result"
    }
   ],
   "source": [
    "list1 = variable[1:8:2,:]\n",
    "list1"
   ]
  },
  {
   "cell_type": "code",
   "execution_count": 195,
   "id": "ada3e215-c940-4cd7-bb42-3a807db1e47f",
   "metadata": {},
   "outputs": [
    {
     "data": {
      "text/plain": [
       "array([[1, 1, 1, 1, 1, 1, 1, 1, 1, 1],\n",
       "       [3, 3, 3, 3, 3, 3, 3, 3, 3, 3],\n",
       "       [5, 5, 5, 5, 5, 5, 5, 5, 5, 5],\n",
       "       [7, 7, 7, 7, 7, 7, 7, 7, 7, 7]])"
      ]
     },
     "execution_count": 195,
     "metadata": {},
     "output_type": "execute_result"
    }
   ],
   "source": [
    "list1 = [1,3,5,7]\n",
    "variable[list1]"
   ]
  },
  {
   "cell_type": "code",
   "execution_count": 196,
   "id": "ad8d4f7e-92c3-4c3a-aef3-5a0c65a00ade",
   "metadata": {},
   "outputs": [
    {
     "data": {
      "text/plain": [
       "array([[8, 8, 8, 8, 8, 8, 8, 8, 8, 8],\n",
       "       [5, 5, 5, 5, 5, 5, 5, 5, 5, 5],\n",
       "       [2, 2, 2, 2, 2, 2, 2, 2, 2, 2],\n",
       "       [7, 7, 7, 7, 7, 7, 7, 7, 7, 7],\n",
       "       [3, 3, 3, 3, 3, 3, 3, 3, 3, 3]])"
      ]
     },
     "execution_count": 196,
     "metadata": {},
     "output_type": "execute_result"
    }
   ],
   "source": [
    "list2 = [8,5,2,7,3]\n",
    "variable[list2]"
   ]
  },
  {
   "cell_type": "code",
   "execution_count": 198,
   "id": "580c6694-1e65-46b2-8b3f-0831ccd68244",
   "metadata": {},
   "outputs": [
    {
     "data": {
      "text/plain": [
       "array([[ 1,  2,  3,  4],\n",
       "       [ 5,  6,  7,  8],\n",
       "       [ 9, 10, 11, 12],\n",
       "       [13, 14, 15, 16]])"
      ]
     },
     "execution_count": 198,
     "metadata": {},
     "output_type": "execute_result"
    }
   ],
   "source": [
    "example = np.arange(1,17).reshape(4,4)\n",
    "example"
   ]
  },
  {
   "cell_type": "code",
   "execution_count": 203,
   "id": "82a05d65-7745-4333-9ca0-9f841db0bb69",
   "metadata": {},
   "outputs": [
    {
     "data": {
      "text/plain": [
       "array([ 2, 15])"
      ]
     },
     "execution_count": 203,
     "metadata": {},
     "output_type": "execute_result"
    }
   ],
   "source": [
    "#important as we are taking rows in first inner square brackets\n",
    "example[[0,3],[1,2]]"
   ]
  },
  {
   "cell_type": "code",
   "execution_count": 204,
   "id": "b8b68da8-d3a6-40c5-8c74-226379412f5f",
   "metadata": {},
   "outputs": [
    {
     "data": {
      "text/plain": [
       "array([ 4,  9, 15,  6])"
      ]
     },
     "execution_count": 204,
     "metadata": {},
     "output_type": "execute_result"
    }
   ],
   "source": [
    "row = [0,2,3,1]\n",
    "column = [3,0,2,1]\n",
    "example[row,column]"
   ]
  },
  {
   "cell_type": "code",
   "execution_count": 207,
   "id": "e4e92e45-297c-4507-a2a7-3deab144c51c",
   "metadata": {},
   "outputs": [
    {
     "data": {
      "text/plain": [
       "array([[ 1,  2,  3,  4],\n",
       "       [ 5,  6,  7,  8],\n",
       "       [ 9, 10, 11, 12],\n",
       "       [13, 14, 15, 16]])"
      ]
     },
     "execution_count": 207,
     "metadata": {},
     "output_type": "execute_result"
    }
   ],
   "source": [
    "example = np.arange(1,17).reshape(4,4)\n",
    "example"
   ]
  },
  {
   "cell_type": "code",
   "execution_count": 208,
   "id": "37462e92-3cd4-4d66-9d54-9c6991f32832",
   "metadata": {},
   "outputs": [
    {
     "data": {
      "text/plain": [
       "array([6, 8])"
      ]
     },
     "execution_count": 208,
     "metadata": {},
     "output_type": "execute_result"
    }
   ],
   "source": [
    "example[1,[1,3]]"
   ]
  },
  {
   "cell_type": "code",
   "execution_count": 209,
   "id": "3b7cd20f-beca-4451-a190-fbb3f7b6e28a",
   "metadata": {},
   "outputs": [
    {
     "data": {
      "text/plain": [
       "array([ 2, 14])"
      ]
     },
     "execution_count": 209,
     "metadata": {},
     "output_type": "execute_result"
    }
   ],
   "source": [
    "example[[0,3],1]"
   ]
  },
  {
   "cell_type": "code",
   "execution_count": 210,
   "id": "ee7ffde8-4ef8-4871-850e-820ef4a999f5",
   "metadata": {},
   "outputs": [
    {
     "data": {
      "text/plain": [
       "array([[ 2,  3],\n",
       "       [ 6,  7],\n",
       "       [10, 11],\n",
       "       [14, 15]])"
      ]
     },
     "execution_count": 210,
     "metadata": {},
     "output_type": "execute_result"
    }
   ],
   "source": [
    "example[0:,[1,2]]"
   ]
  },
  {
   "cell_type": "code",
   "execution_count": 212,
   "id": "dfb91e6b-f2db-4d8d-8920-586dd69dd6ff",
   "metadata": {},
   "outputs": [
    {
     "data": {
      "text/plain": [
       "array([[ 6,  7],\n",
       "       [10, 11]])"
      ]
     },
     "execution_count": 212,
     "metadata": {},
     "output_type": "execute_result"
    }
   ],
   "source": [
    "example[1:3,[1,2]]"
   ]
  },
  {
   "cell_type": "markdown",
   "id": "23d208e6-f293-4639-a9a1-b863eac052d7",
   "metadata": {},
   "source": [
    "*COMPARISON OPERATORS*"
   ]
  },
  {
   "cell_type": "code",
   "execution_count": 17,
   "id": "21c56d47-226a-4709-ad02-8a4c1cefaf43",
   "metadata": {},
   "outputs": [
    {
     "data": {
      "text/plain": [
       "array([ 1,  2,  3,  4,  5,  6,  7,  8,  9, 10])"
      ]
     },
     "execution_count": 17,
     "metadata": {},
     "output_type": "execute_result"
    }
   ],
   "source": [
    "array = np.arange(1,11)\n",
    "array"
   ]
  },
  {
   "cell_type": "code",
   "execution_count": 18,
   "id": "c1a3808d-cd7c-4f08-b126-0ed772474927",
   "metadata": {},
   "outputs": [
    {
     "data": {
      "text/plain": [
       "array([False, False, False, False, False,  True,  True,  True,  True,\n",
       "        True])"
      ]
     },
     "execution_count": 18,
     "metadata": {},
     "output_type": "execute_result"
    }
   ],
   "source": [
    "array > 5"
   ]
  },
  {
   "cell_type": "raw",
   "id": "8de842fd-d822-49ca-a38b-6f39fc30b876",
   "metadata": {},
   "source": [
    "array[8] = 1\n",
    "#works on actual values and not indexing\n",
    "array[array>5]\n",
    "output = 6,7,8,10"
   ]
  },
  {
   "cell_type": "code",
   "execution_count": 19,
   "id": "52cf0a69-e791-4fee-9d71-9fc28cd31686",
   "metadata": {},
   "outputs": [
    {
     "data": {
      "text/plain": [
       "array([ 6,  7,  8,  9, 10])"
      ]
     },
     "execution_count": 19,
     "metadata": {},
     "output_type": "execute_result"
    }
   ],
   "source": [
    "array[array>5]"
   ]
  },
  {
   "cell_type": "code",
   "execution_count": 20,
   "id": "1c19e4d6-9418-42a4-9933-9f0f4476b013",
   "metadata": {},
   "outputs": [
    {
     "data": {
      "text/plain": [
       "array([4])"
      ]
     },
     "execution_count": 20,
     "metadata": {},
     "output_type": "execute_result"
    }
   ],
   "source": [
    "condition = (array == 4)\n",
    "array[condition]"
   ]
  },
  {
   "cell_type": "code",
   "execution_count": 21,
   "id": "4c634828-d534-4534-aa38-421c981a1e77",
   "metadata": {},
   "outputs": [
    {
     "data": {
      "text/plain": [
       "array([False, False, False, False, False,  True,  True, False,  True,\n",
       "        True])"
      ]
     },
     "execution_count": 21,
     "metadata": {},
     "output_type": "execute_result"
    }
   ],
   "source": [
    "new_condition = (array != 8) & (array >= 6)\n",
    "new_condition"
   ]
  },
  {
   "cell_type": "code",
   "execution_count": 22,
   "id": "32d05f2d-22fd-4649-9778-535d0a27627f",
   "metadata": {},
   "outputs": [
    {
     "data": {
      "text/plain": [
       "array([ 6,  7,  9, 10])"
      ]
     },
     "execution_count": 22,
     "metadata": {},
     "output_type": "execute_result"
    }
   ],
   "source": [
    "array[new_condition]"
   ]
  },
  {
   "cell_type": "code",
   "execution_count": 23,
   "id": "ed766b85-3d3e-4298-bcc0-721ed2f8823e",
   "metadata": {},
   "outputs": [
    {
     "data": {
      "text/plain": [
       "array([ 1,  2,  3,  4,  5,  6,  7,  8,  9, 10])"
      ]
     },
     "execution_count": 23,
     "metadata": {},
     "output_type": "execute_result"
    }
   ],
   "source": [
    "array"
   ]
  },
  {
   "cell_type": "code",
   "execution_count": 24,
   "id": "fbb70e09-c926-4dbf-a95c-603cc329436a",
   "metadata": {},
   "outputs": [
    {
     "data": {
      "text/plain": [
       "array([-1,  0,  1,  2,  3,  4,  5,  6,  7,  8])"
      ]
     },
     "execution_count": 24,
     "metadata": {},
     "output_type": "execute_result"
    }
   ],
   "source": [
    "array - 2"
   ]
  },
  {
   "cell_type": "code",
   "execution_count": 25,
   "id": "d79f92fa-a1ff-4bc1-8033-b57ed9995327",
   "metadata": {},
   "outputs": [
    {
     "data": {
      "text/plain": [
       "array([ 10,  20,  30,  40,  50,  60,  70,  80,  90, 100])"
      ]
     },
     "execution_count": 25,
     "metadata": {},
     "output_type": "execute_result"
    }
   ],
   "source": [
    "array * 10"
   ]
  },
  {
   "cell_type": "code",
   "execution_count": 27,
   "id": "8a311840-597c-4de3-ba58-c9b631ed4e08",
   "metadata": {},
   "outputs": [
    {
     "data": {
      "text/plain": [
       "array([0.1, 0.2, 0.3, 0.4, 0.5, 0.6, 0.7, 0.8, 0.9, 1. ])"
      ]
     },
     "execution_count": 27,
     "metadata": {},
     "output_type": "execute_result"
    }
   ],
   "source": [
    "array / 10"
   ]
  },
  {
   "cell_type": "code",
   "execution_count": 28,
   "id": "2c7ba37b-9499-4b42-84ce-1acf9890593c",
   "metadata": {},
   "outputs": [
    {
     "data": {
      "text/plain": [
       "array([ 6.,  8., 10., 12., 14., 16., 18., 20., 22., 24.])"
      ]
     },
     "execution_count": 28,
     "metadata": {},
     "output_type": "execute_result"
    }
   ],
   "source": [
    "((array*10)+20)/5"
   ]
  },
  {
   "cell_type": "code",
   "execution_count": 29,
   "id": "3f7a81de-862e-446b-bc83-9c38c1e708e4",
   "metadata": {},
   "outputs": [
    {
     "data": {
      "text/plain": [
       "array([  1,   4,   9,  16,  25,  36,  49,  64,  81, 100])"
      ]
     },
     "execution_count": 29,
     "metadata": {},
     "output_type": "execute_result"
    }
   ],
   "source": [
    "array*array"
   ]
  },
  {
   "cell_type": "code",
   "execution_count": 30,
   "id": "5a8fb14c-7323-4be1-b950-ad13ee7103a4",
   "metadata": {},
   "outputs": [
    {
     "data": {
      "text/plain": [
       "array([1., 1., 1., 1., 1., 1., 1., 1., 1., 1.])"
      ]
     },
     "execution_count": 30,
     "metadata": {},
     "output_type": "execute_result"
    }
   ],
   "source": [
    "array/array"
   ]
  },
  {
   "cell_type": "code",
   "execution_count": 31,
   "id": "942e03f0-b583-45ee-8911-4fc9ce62ef99",
   "metadata": {},
   "outputs": [
    {
     "data": {
      "text/plain": [
       "array([-1,  0,  1,  2,  3,  4,  5,  6,  7,  8])"
      ]
     },
     "execution_count": 31,
     "metadata": {},
     "output_type": "execute_result"
    }
   ],
   "source": [
    "np.subtract(array,2)"
   ]
  },
  {
   "cell_type": "code",
   "execution_count": 32,
   "id": "aebb70db-435e-4545-9108-d6156039d77c",
   "metadata": {},
   "outputs": [
    {
     "data": {
      "text/plain": [
       "array([ 10,  20,  30,  40,  50,  60,  70,  80,  90, 100])"
      ]
     },
     "execution_count": 32,
     "metadata": {},
     "output_type": "execute_result"
    }
   ],
   "source": [
    "np.multiply(array,10)"
   ]
  },
  {
   "cell_type": "code",
   "execution_count": 33,
   "id": "ea8f4872-3866-4887-8562-50e2e08cd5d5",
   "metadata": {},
   "outputs": [
    {
     "data": {
      "text/plain": [
       "array([21, 22, 23, 24, 25, 26, 27, 28, 29, 30])"
      ]
     },
     "execution_count": 33,
     "metadata": {},
     "output_type": "execute_result"
    }
   ],
   "source": [
    " np.add(array,20)"
   ]
  },
  {
   "cell_type": "code",
   "execution_count": 34,
   "id": "b6130e72-dfd8-4bab-a017-b9d263a5b3c8",
   "metadata": {},
   "outputs": [
    {
     "data": {
      "text/plain": [
       "array([0.1, 0.2, 0.3, 0.4, 0.5, 0.6, 0.7, 0.8, 0.9, 1. ])"
      ]
     },
     "execution_count": 34,
     "metadata": {},
     "output_type": "execute_result"
    }
   ],
   "source": [
    "np.divide(array,10)"
   ]
  },
  {
   "cell_type": "code",
   "execution_count": 36,
   "id": "ccbfc73c-35e2-4609-ab2c-e7a48bb2e9da",
   "metadata": {},
   "outputs": [
    {
     "data": {
      "text/plain": [
       "array([   1,    8,   27,   64,  125,  216,  343,  512,  729, 1000],\n",
       "      dtype=int32)"
      ]
     },
     "execution_count": 36,
     "metadata": {},
     "output_type": "execute_result"
    }
   ],
   "source": [
    "array**3"
   ]
  },
  {
   "cell_type": "code",
   "execution_count": 37,
   "id": "f1b8935f-af2d-40f7-a68d-d45535b67764",
   "metadata": {},
   "outputs": [
    {
     "data": {
      "text/plain": [
       "array([   1,    8,   27,   64,  125,  216,  343,  512,  729, 1000],\n",
       "      dtype=int32)"
      ]
     },
     "execution_count": 37,
     "metadata": {},
     "output_type": "execute_result"
    }
   ],
   "source": [
    "np.power(array,3)"
   ]
  },
  {
   "cell_type": "code",
   "execution_count": 38,
   "id": "efd0acde-70d0-47c0-96d8-64629d093585",
   "metadata": {},
   "outputs": [
    {
     "data": {
      "text/plain": [
       "2.0"
      ]
     },
     "execution_count": 38,
     "metadata": {},
     "output_type": "execute_result"
    }
   ],
   "source": [
    "np.sqrt(4)"
   ]
  },
  {
   "cell_type": "code",
   "execution_count": 40,
   "id": "6947484e-be5f-4723-8452-94a072e2aedd",
   "metadata": {},
   "outputs": [
    {
     "data": {
      "text/plain": [
       "10.0"
      ]
     },
     "execution_count": 40,
     "metadata": {},
     "output_type": "execute_result"
    }
   ],
   "source": [
    "np.sqrt(100)"
   ]
  },
  {
   "cell_type": "code",
   "execution_count": 41,
   "id": "a2153f67-dff1-47fe-aebe-846b597a2d1a",
   "metadata": {},
   "outputs": [
    {
     "data": {
      "text/plain": [
       "array([1, 2, 3, 4, 0, 1, 2, 3, 4, 0], dtype=int32)"
      ]
     },
     "execution_count": 41,
     "metadata": {},
     "output_type": "execute_result"
    }
   ],
   "source": [
    "array % 5"
   ]
  },
  {
   "cell_type": "code",
   "execution_count": 42,
   "id": "370443d9-25ea-4705-bcf7-906443e091f1",
   "metadata": {},
   "outputs": [
    {
     "data": {
      "text/plain": [
       "array([1, 2, 3, 4, 0, 1, 2, 3, 4, 0], dtype=int32)"
      ]
     },
     "execution_count": 42,
     "metadata": {},
     "output_type": "execute_result"
    }
   ],
   "source": [
    "np.mod(array,5)"
   ]
  },
  {
   "cell_type": "code",
   "execution_count": 43,
   "id": "a22ecedb-0468-4942-ae2d-241727e26836",
   "metadata": {},
   "outputs": [
    {
     "data": {
      "text/plain": [
       "-0.8011526357338304"
      ]
     },
     "execution_count": 43,
     "metadata": {},
     "output_type": "execute_result"
    }
   ],
   "source": [
    "np.sin(180)"
   ]
  },
  {
   "cell_type": "code",
   "execution_count": 48,
   "id": "9b286e61-48c0-4a1b-8efb-5492a717c0a1",
   "metadata": {},
   "outputs": [
    {
     "data": {
      "text/plain": [
       "-0.5984600690578581"
      ]
     },
     "execution_count": 48,
     "metadata": {},
     "output_type": "execute_result"
    }
   ],
   "source": [
    "np.cos(180)"
   ]
  },
  {
   "cell_type": "code",
   "execution_count": 49,
   "id": "2f45b0af-d03a-4b9c-9b68-318a8c7a2b81",
   "metadata": {},
   "outputs": [
    {
     "data": {
      "text/plain": [
       "array([0.        , 0.69314718, 1.09861229, 1.38629436, 1.60943791,\n",
       "       1.79175947, 1.94591015, 2.07944154, 2.19722458, 2.30258509])"
      ]
     },
     "execution_count": 49,
     "metadata": {},
     "output_type": "execute_result"
    }
   ],
   "source": [
    "np.log(array)"
   ]
  },
  {
   "cell_type": "code",
   "execution_count": 50,
   "id": "4036fd17-8f33-4c08-915a-7505b57199a8",
   "metadata": {},
   "outputs": [
    {
     "data": {
      "text/plain": [
       "array([0.        , 0.30103   , 0.47712125, 0.60205999, 0.69897   ,\n",
       "       0.77815125, 0.84509804, 0.90308999, 0.95424251, 1.        ])"
      ]
     },
     "execution_count": 50,
     "metadata": {},
     "output_type": "execute_result"
    }
   ],
   "source": [
    "np.log10(array)"
   ]
  },
  {
   "cell_type": "code",
   "execution_count": 51,
   "id": "89f8570b-6ec6-4a82-9596-18fc1cd904c3",
   "metadata": {},
   "outputs": [
    {
     "data": {
      "text/plain": [
       "array([ 1,  2,  3,  4,  5,  6,  7,  8,  9, 10])"
      ]
     },
     "execution_count": 51,
     "metadata": {},
     "output_type": "execute_result"
    }
   ],
   "source": [
    "array"
   ]
  },
  {
   "cell_type": "code",
   "execution_count": 52,
   "id": "4034b310-45f2-41ec-ac24-b6912ae0d358",
   "metadata": {},
   "outputs": [
    {
     "data": {
      "text/plain": [
       "55"
      ]
     },
     "execution_count": 52,
     "metadata": {},
     "output_type": "execute_result"
    }
   ],
   "source": [
    "np.sum(array)"
   ]
  },
  {
   "cell_type": "code",
   "execution_count": 53,
   "id": "a932f586-90fc-4d85-9132-347df60b1b28",
   "metadata": {},
   "outputs": [
    {
     "data": {
      "text/plain": [
       "5.5"
      ]
     },
     "execution_count": 53,
     "metadata": {},
     "output_type": "execute_result"
    }
   ],
   "source": [
    "np.mean(array)"
   ]
  },
  {
   "cell_type": "code",
   "execution_count": 54,
   "id": "99c5f636-dbbb-4eab-a98a-6fd2953f1430",
   "metadata": {},
   "outputs": [
    {
     "data": {
      "text/plain": [
       "5.5"
      ]
     },
     "execution_count": 54,
     "metadata": {},
     "output_type": "execute_result"
    }
   ],
   "source": [
    "np.median(array)"
   ]
  },
  {
   "cell_type": "code",
   "execution_count": 55,
   "id": "77cf23c9-e7d1-429f-9b19-066eb3746613",
   "metadata": {},
   "outputs": [
    {
     "data": {
      "text/plain": [
       "1"
      ]
     },
     "execution_count": 55,
     "metadata": {},
     "output_type": "execute_result"
    }
   ],
   "source": [
    "np.min(array)"
   ]
  },
  {
   "cell_type": "code",
   "execution_count": 56,
   "id": "770ddb19-c3b9-4020-85c9-499cf424baa9",
   "metadata": {},
   "outputs": [
    {
     "data": {
      "text/plain": [
       "10"
      ]
     },
     "execution_count": 56,
     "metadata": {},
     "output_type": "execute_result"
    }
   ],
   "source": [
    "np.max(array)"
   ]
  },
  {
   "cell_type": "code",
   "execution_count": 64,
   "id": "d0921c59-a83e-4a04-be07-e516fd3663b5",
   "metadata": {},
   "outputs": [
    {
     "data": {
      "text/plain": [
       "2.8722813232690143"
      ]
     },
     "execution_count": 64,
     "metadata": {},
     "output_type": "execute_result"
    }
   ],
   "source": [
    "np.std(array)"
   ]
  },
  {
   "cell_type": "code",
   "execution_count": 59,
   "id": "975a1998-fba3-43fd-be4d-ef5e2df47190",
   "metadata": {},
   "outputs": [
    {
     "data": {
      "text/plain": [
       "8.25"
      ]
     },
     "execution_count": 59,
     "metadata": {},
     "output_type": "execute_result"
    }
   ],
   "source": [
    "np.var(array)"
   ]
  },
  {
   "cell_type": "code",
   "execution_count": 65,
   "id": "b3b93d16-61ef-45f8-8079-700af2e0c87c",
   "metadata": {},
   "outputs": [
    {
     "data": {
      "text/plain": [
       "2.8722813232690143"
      ]
     },
     "execution_count": 65,
     "metadata": {},
     "output_type": "execute_result"
    }
   ],
   "source": [
    "np.sqrt(np.var(array))"
   ]
  },
  {
   "cell_type": "raw",
   "id": "acf41f9f-72e0-43e0-a879-94478705ea45",
   "metadata": {},
   "source": [
    "#LINEAR OPERATIONS\n",
    "2X1 + X2 = 5\n",
    "-3X1 + 6X2 = 0"
   ]
  },
  {
   "cell_type": "code",
   "execution_count": 76,
   "id": "534f99f3-064a-461d-ba11-42d8eaf951bf",
   "metadata": {},
   "outputs": [
    {
     "data": {
      "text/plain": [
       "array([[ 2,  1],\n",
       "       [-3,  6]])"
      ]
     },
     "execution_count": 76,
     "metadata": {},
     "output_type": "execute_result"
    }
   ],
   "source": [
    "coefficient = np.array([[2,1],[-3,6]])\n",
    "coefficient"
   ]
  },
  {
   "cell_type": "code",
   "execution_count": 77,
   "id": "1bddaf3e-fc53-4a50-80bb-825cbe04c1d8",
   "metadata": {},
   "outputs": [
    {
     "data": {
      "text/plain": [
       "array([5, 0])"
      ]
     },
     "execution_count": 77,
     "metadata": {},
     "output_type": "execute_result"
    }
   ],
   "source": [
    "output  = np.array([5,0])\n",
    "output"
   ]
  },
  {
   "cell_type": "code",
   "execution_count": 78,
   "id": "00fe5bae-2034-44ef-b4a7-fc19154bb13c",
   "metadata": {},
   "outputs": [
    {
     "data": {
      "text/plain": [
       "array([2., 1.])"
      ]
     },
     "execution_count": 78,
     "metadata": {},
     "output_type": "execute_result"
    }
   ],
   "source": [
    "np.linalg.solve(coefficient,output)"
   ]
  }
 ],
 "metadata": {
  "kernelspec": {
   "display_name": "Python 3 (ipykernel)",
   "language": "python",
   "name": "python3"
  },
  "language_info": {
   "codemirror_mode": {
    "name": "ipython",
    "version": 3
   },
   "file_extension": ".py",
   "mimetype": "text/x-python",
   "name": "python",
   "nbconvert_exporter": "python",
   "pygments_lexer": "ipython3",
   "version": "3.12.7"
  }
 },
 "nbformat": 4,
 "nbformat_minor": 5
}
